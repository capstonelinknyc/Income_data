{
 "cells": [
  {
   "cell_type": "code",
   "execution_count": 8,
   "metadata": {},
   "outputs": [],
   "source": [
    "import pandas as pd\n",
    "import geopandas as gpd"
   ]
  },
  {
   "cell_type": "code",
   "execution_count": 2,
   "metadata": {},
   "outputs": [],
   "source": [
    "linkNYC = pd.read_csv('July 2018 Monthly LinkNYC Data - Per-AP.csv')"
   ]
  },
  {
   "cell_type": "code",
   "execution_count": 4,
   "metadata": {},
   "outputs": [],
   "source": [
    "income = pd.read_csv('income/Income_data/ACS_17_5YR_B19013_with_ann.csv')"
   ]
  },
  {
   "cell_type": "code",
   "execution_count": 7,
   "metadata": {},
   "outputs": [
    {
     "data": {
      "text/html": [
       "<div>\n",
       "<style scoped>\n",
       "    .dataframe tbody tr th:only-of-type {\n",
       "        vertical-align: middle;\n",
       "    }\n",
       "\n",
       "    .dataframe tbody tr th {\n",
       "        vertical-align: top;\n",
       "    }\n",
       "\n",
       "    .dataframe thead th {\n",
       "        text-align: right;\n",
       "    }\n",
       "</style>\n",
       "<table border=\"1\" class=\"dataframe\">\n",
       "  <thead>\n",
       "    <tr style=\"text-align: right;\">\n",
       "      <th></th>\n",
       "      <th>GEO.id</th>\n",
       "      <th>GEO.id2</th>\n",
       "      <th>GEO.display-label</th>\n",
       "      <th>HD01_VD01</th>\n",
       "      <th>HD02_VD01</th>\n",
       "    </tr>\n",
       "  </thead>\n",
       "  <tbody>\n",
       "    <tr>\n",
       "      <th>0</th>\n",
       "      <td>Id</td>\n",
       "      <td>Id2</td>\n",
       "      <td>Geography</td>\n",
       "      <td>Estimate; Median household income in the past ...</td>\n",
       "      <td>Margin of Error; Median household income in th...</td>\n",
       "    </tr>\n",
       "    <tr>\n",
       "      <th>1</th>\n",
       "      <td>1400000US36061000100</td>\n",
       "      <td>36061000100</td>\n",
       "      <td>Census Tract 1, New York County, New York</td>\n",
       "      <td>-</td>\n",
       "      <td>**</td>\n",
       "    </tr>\n",
       "    <tr>\n",
       "      <th>2</th>\n",
       "      <td>1400000US36061000201</td>\n",
       "      <td>36061000201</td>\n",
       "      <td>Census Tract 2.01, New York County, New York</td>\n",
       "      <td>23574</td>\n",
       "      <td>5408</td>\n",
       "    </tr>\n",
       "    <tr>\n",
       "      <th>3</th>\n",
       "      <td>1400000US36061000202</td>\n",
       "      <td>36061000202</td>\n",
       "      <td>Census Tract 2.02, New York County, New York</td>\n",
       "      <td>32068</td>\n",
       "      <td>6133</td>\n",
       "    </tr>\n",
       "    <tr>\n",
       "      <th>4</th>\n",
       "      <td>1400000US36061000500</td>\n",
       "      <td>36061000500</td>\n",
       "      <td>Census Tract 5, New York County, New York</td>\n",
       "      <td>-</td>\n",
       "      <td>**</td>\n",
       "    </tr>\n",
       "  </tbody>\n",
       "</table>\n",
       "</div>"
      ],
      "text/plain": [
       "                 GEO.id      GEO.id2  \\\n",
       "0                    Id          Id2   \n",
       "1  1400000US36061000100  36061000100   \n",
       "2  1400000US36061000201  36061000201   \n",
       "3  1400000US36061000202  36061000202   \n",
       "4  1400000US36061000500  36061000500   \n",
       "\n",
       "                              GEO.display-label  \\\n",
       "0                                     Geography   \n",
       "1     Census Tract 1, New York County, New York   \n",
       "2  Census Tract 2.01, New York County, New York   \n",
       "3  Census Tract 2.02, New York County, New York   \n",
       "4     Census Tract 5, New York County, New York   \n",
       "\n",
       "                                           HD01_VD01  \\\n",
       "0  Estimate; Median household income in the past ...   \n",
       "1                                                  -   \n",
       "2                                              23574   \n",
       "3                                              32068   \n",
       "4                                                  -   \n",
       "\n",
       "                                           HD02_VD01  \n",
       "0  Margin of Error; Median household income in th...  \n",
       "1                                                 **  \n",
       "2                                               5408  \n",
       "3                                               6133  \n",
       "4                                                 **  "
      ]
     },
     "execution_count": 7,
     "metadata": {},
     "output_type": "execute_result"
    }
   ],
   "source": [
    "income.head()"
   ]
  },
  {
   "cell_type": "code",
   "execution_count": 12,
   "metadata": {},
   "outputs": [],
   "source": [
    "tiger = gpd.read_file(\"tl_2017_36_tract/tl_2017_36_tract.shp\")"
   ]
  },
  {
   "cell_type": "code",
   "execution_count": 15,
   "metadata": {},
   "outputs": [],
   "source": [
    "income_geo = tiger.merge(income, left_on = \"GEOID\", right_on = \"GEO.id2\", how = \"left\")[['GEOID','HD01_VD01','geometry','GEO.display-label']]"
   ]
  },
  {
   "cell_type": "code",
   "execution_count": 20,
   "metadata": {},
   "outputs": [],
   "source": [
    "ny_income = income_geo.dropna()"
   ]
  },
  {
   "cell_type": "code",
   "execution_count": 22,
   "metadata": {},
   "outputs": [
    {
     "data": {
      "text/plain": [
       "1152"
      ]
     },
     "execution_count": 22,
     "metadata": {},
     "output_type": "execute_result"
    }
   ],
   "source": [
    "ny_income.size"
   ]
  },
  {
   "cell_type": "code",
   "execution_count": null,
   "metadata": {},
   "outputs": [],
   "source": []
  }
 ],
 "metadata": {
  "kernelspec": {
   "display_name": "Python 3",
   "language": "python",
   "name": "python3"
  },
  "language_info": {
   "codemirror_mode": {
    "name": "ipython",
    "version": 3
   },
   "file_extension": ".py",
   "mimetype": "text/x-python",
   "name": "python",
   "nbconvert_exporter": "python",
   "pygments_lexer": "ipython3",
   "version": "3.7.1"
  }
 },
 "nbformat": 4,
 "nbformat_minor": 2
}
